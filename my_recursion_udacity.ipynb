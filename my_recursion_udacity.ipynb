{
 "cells": [
  {
   "cell_type": "markdown",
   "metadata": {},
   "source": [
    "# Udacity Notebook 1 - Introduction"
   ]
  },
  {
   "cell_type": "code",
   "execution_count": 14,
   "metadata": {},
   "outputs": [
    {
     "data": {
      "text/plain": [
       "0.5"
      ]
     },
     "execution_count": 14,
     "metadata": {},
     "output_type": "execute_result"
    }
   ],
   "source": [
    "# my implementation accounts for both positive and negative exponents\n",
    "def power_function(n, e):\n",
    "    if n ==0 and e == 0:\n",
    "        raise ValueErrorueError(\"0 raised to 0 is not defined\")\n",
    "    if e == 0:\n",
    "        return(1)\n",
    "    if e > 0:\n",
    "        result = n * power_function(n, e-1)\n",
    "    if e < 0:\n",
    "        result = n**-1 * power_function(n, e + 1)\n",
    "    return result\n",
    "\n",
    "power_function(2,-1)"
   ]
  },
  {
   "cell_type": "code",
   "execution_count": 15,
   "metadata": {},
   "outputs": [
    {
     "data": {
      "text/plain": [
       "6"
      ]
     },
     "execution_count": 15,
     "metadata": {},
     "output_type": "execute_result"
    }
   ],
   "source": [
    "# my implementation - almost same as Udacity\n",
    "def sum_integers(n):\n",
    "    if n==0:\n",
    "        return (0)\n",
    "    else:\n",
    "        output = n + sum_integers(n-1)\n",
    "        return output\n",
    "        \n",
    "sum_integers(3)"
   ]
  },
  {
   "cell_type": "code",
   "execution_count": 16,
   "metadata": {},
   "outputs": [
    {
     "data": {
      "text/plain": [
       "15"
      ]
     },
     "execution_count": 16,
     "metadata": {},
     "output_type": "execute_result"
    }
   ],
   "source": [
    "# my implementation - almost same as Udacity\n",
    "def sum_array(arr):\n",
    "    if len(arr)==1:\n",
    "        return(arr[0])\n",
    "    else:\n",
    "        pop = arr.pop()\n",
    "        output = pop + sum_array(arr)\n",
    "        return output\n",
    "sum_array([1,2,3,4,5])"
   ]
  },
  {
   "cell_type": "code",
   "execution_count": 17,
   "metadata": {},
   "outputs": [
    {
     "data": {
      "text/plain": [
       "15"
      ]
     },
     "execution_count": 17,
     "metadata": {},
     "output_type": "execute_result"
    }
   ],
   "source": [
    "# my implementation - in slightly different way\n",
    "def sum_array(arr):\n",
    "    \n",
    "    if len(arr) == 0:\n",
    "        raise ValueError('size of array is 0')\n",
    "    \n",
    "    if len(arr)==1:\n",
    "        return(arr[0])\n",
    "     \n",
    "    if len(arr)>1:\n",
    "        result = arr[0] + sum_array(arr[1:len(arr)])\n",
    "    return result\n",
    "sum_array([1,2,3,4,5])\n",
    "    "
   ]
  },
  {
   "cell_type": "markdown",
   "metadata": {},
   "source": [
    "# Udacity Notebook 2 - Factorial Using Recursion"
   ]
  },
  {
   "cell_type": "code",
   "execution_count": 19,
   "metadata": {},
   "outputs": [
    {
     "data": {
      "text/plain": [
       "120"
      ]
     },
     "execution_count": 19,
     "metadata": {},
     "output_type": "execute_result"
    }
   ],
   "source": [
    "# factorial using recursion\n",
    "def fact(n):\n",
    "    if n == 0:\n",
    "        return(1)\n",
    "    if n> 0:\n",
    "        result = n*fact(n-1)\n",
    "        return result\n",
    "    if n<0:\n",
    "        raise ValueError(\"Factorial Not Defined\")\n",
    "\n",
    "fact(5)"
   ]
  },
  {
   "cell_type": "code",
   "execution_count": 21,
   "metadata": {},
   "outputs": [
    {
     "data": {
      "text/plain": [
       "120"
      ]
     },
     "execution_count": 21,
     "metadata": {},
     "output_type": "execute_result"
    }
   ],
   "source": [
    "# my implementation - almost same as Udacity\n",
    "def factorial(n):\n",
    "    if n<0:\n",
    "        raise ValueError('Factorial of Negative numbers are not defined')\n",
    "    if n==0:\n",
    "        return(1)\n",
    "    else:\n",
    "        output = n*factorial(n-1)\n",
    "        return output\n",
    "factorial(5)"
   ]
  },
  {
   "cell_type": "code",
   "execution_count": 22,
   "metadata": {},
   "outputs": [
    {
     "name": "stdout",
     "output_type": "stream",
     "text": [
      "Pass\n",
      "Pass\n",
      "Pass\n"
     ]
    }
   ],
   "source": [
    "# Test Cases\n",
    "\n",
    "print (\"Pass\" if (1 == factorial(0)) else \"Fail\")\n",
    "print (\"Pass\" if  (1 == factorial(1)) else \"Fail\")\n",
    "print (\"Pass\" if  (120 == factorial(5)) else \"Fail\")"
   ]
  },
  {
   "cell_type": "markdown",
   "metadata": {},
   "source": [
    "# Udacity Notebook 3 - Reversing a string"
   ]
  },
  {
   "cell_type": "code",
   "execution_count": 41,
   "metadata": {},
   "outputs": [
    {
     "data": {
      "text/plain": [
       "'nusarp'"
      ]
     },
     "execution_count": 41,
     "metadata": {},
     "output_type": "execute_result"
    }
   ],
   "source": [
    "def reverse_string(my_string):\n",
    "    if len(my_string)<=1:\n",
    "        return my_string\n",
    "    if len(my_string)>=1:\n",
    "        reversed_string = my_string[-1] + reverse_string(my_string[:-1])\n",
    "        return reversed_string\n",
    "\n",
    "reverse_string('prasun')"
   ]
  },
  {
   "cell_type": "code",
   "execution_count": 42,
   "metadata": {},
   "outputs": [
    {
     "data": {
      "text/plain": [
       "'nusarp'"
      ]
     },
     "execution_count": 42,
     "metadata": {},
     "output_type": "execute_result"
    }
   ],
   "source": [
    "# my implementation - almost same as Udacity\n",
    "def reverse_string(my_string):\n",
    "    if len(my_string) <=1:\n",
    "        return my_string\n",
    "    else:\n",
    "        output = my_string[-1] + reverse_string(my_string[:-1])\n",
    "        return output\n",
    "reverse_string('prasun')"
   ]
  },
  {
   "cell_type": "code",
   "execution_count": 43,
   "metadata": {},
   "outputs": [
    {
     "name": "stdout",
     "output_type": "stream",
     "text": [
      "Pass\n",
      "Pass\n"
     ]
    }
   ],
   "source": [
    "# Test Cases\n",
    "    \n",
    "print (\"Pass\" if  (\"\" == reverse_string(\"\")) else \"Fail\")\n",
    "print (\"Pass\" if  (\"cba\" == reverse_string(\"abc\")) else \"Fail\")"
   ]
  },
  {
   "cell_type": "markdown",
   "metadata": {},
   "source": [
    "# Udacity Notebook 4 - Checking Palindrome"
   ]
  },
  {
   "cell_type": "code",
   "execution_count": 44,
   "metadata": {},
   "outputs": [],
   "source": [
    "# my implementation - different than Udacity\n",
    "# my implementation doesn't use recursion, it just uses the function reverse_string\n",
    "def check_palindrome(my_string):\n",
    "    if reverse_string(my_string) == my_string:\n",
    "        return('Yes its a palindrome')\n",
    "    else:\n",
    "        return('no its not a palindrome')\n",
    "    return"
   ]
  },
  {
   "cell_type": "code",
   "execution_count": 45,
   "metadata": {},
   "outputs": [
    {
     "name": "stdout",
     "output_type": "stream",
     "text": [
      "Yes its a palindrome\n",
      "no its not a palindrome\n"
     ]
    }
   ],
   "source": [
    "print(check_palindrome('prasarp'))\n",
    "print(check_palindrome('prasarpwmdk'))"
   ]
  },
  {
   "cell_type": "code",
   "execution_count": 49,
   "metadata": {},
   "outputs": [],
   "source": [
    "# another method:\n",
    "def is_palindrome(my_string):\n",
    "    if len(my_string) <= 1:\n",
    "        return True\n",
    "    if len(my_string) == 2:\n",
    "        return my_string[0] == my_string[1]\n",
    "    else:\n",
    "        output = (my_string[0] == my_string[-1]) & is_palindrome(my_string[1:len(my_string)-1])\n",
    "        return output"
   ]
  },
  {
   "cell_type": "code",
   "execution_count": 50,
   "metadata": {},
   "outputs": [
    {
     "name": "stdout",
     "output_type": "stream",
     "text": [
      "Pass\n",
      "Pass\n",
      "Pass\n",
      "Pass\n",
      "Pass\n"
     ]
    }
   ],
   "source": [
    "# Test Cases\n",
    "\n",
    "print (\"Pass\" if  (is_palindrome(\"\")) else \"Fail\")\n",
    "print (\"Pass\" if  (is_palindrome(\"a\")) else \"Fail\")\n",
    "print (\"Pass\" if  (is_palindrome(\"madam\")) else \"Fail\")\n",
    "print (\"Pass\" if  (is_palindrome(\"abba\")) else \"Fail\")\n",
    "print (\"Pass\" if not (is_palindrome(\"Udacity\")) else \"Fail\")\n"
   ]
  },
  {
   "cell_type": "markdown",
   "metadata": {},
   "source": [
    "# Udacity Notebook 5 - List Permutation"
   ]
  },
  {
   "cell_type": "code",
   "execution_count": 77,
   "metadata": {},
   "outputs": [
    {
     "data": {
      "text/plain": [
       "[[1, 2, 4], [1, 4, 2], [2, 1, 4], [2, 4, 1], [4, 1, 2], [4, 2, 1]]"
      ]
     },
     "execution_count": 77,
     "metadata": {},
     "output_type": "execute_result"
    }
   ],
   "source": [
    "def create_permutations(my_list):\n",
    "    store_permutation = []\n",
    "    \n",
    "    if len(my_list) <= 1:\n",
    "        return [my_list]\n",
    "    \n",
    "    for i in range(len(my_list)):\n",
    "        m = my_list[i]\n",
    "\n",
    "        remaining_list = my_list[:i] + my_list[i+1:] \n",
    "\n",
    "        for p in create_permutations(remaining_list):\n",
    "            store_permutation.append([m] + p)\n",
    "\n",
    "    return store_permutation\n",
    "\n",
    "create_permutations([1,2,4])"
   ]
  },
  {
   "cell_type": "markdown",
   "metadata": {},
   "source": [
    "# Udacity Notebook 6 - String Permutations"
   ]
  },
  {
   "cell_type": "code",
   "execution_count": 87,
   "metadata": {
    "collapsed": true,
    "jupyter": {
     "outputs_hidden": true
    }
   },
   "outputs": [
    {
     "data": {
      "text/plain": [
       "['abcd',\n",
       " 'abdc',\n",
       " 'acbd',\n",
       " 'acdb',\n",
       " 'adbc',\n",
       " 'adcb',\n",
       " 'bacd',\n",
       " 'badc',\n",
       " 'bcad',\n",
       " 'bcda',\n",
       " 'bdac',\n",
       " 'bdca',\n",
       " 'cabd',\n",
       " 'cadb',\n",
       " 'cbad',\n",
       " 'cbda',\n",
       " 'cdab',\n",
       " 'cdba',\n",
       " 'dabc',\n",
       " 'dacb',\n",
       " 'dbac',\n",
       " 'dbca',\n",
       " 'dcab',\n",
       " 'dcba']"
      ]
     },
     "execution_count": 87,
     "metadata": {},
     "output_type": "execute_result"
    }
   ],
   "source": [
    "# Return all permutations of a string in a list\n",
    "\n",
    "def create_string_permutation(my_string):\n",
    "    store_permutation = []\n",
    "    if len(my_string) <= 1:\n",
    "        return my_string\n",
    "    \n",
    "    else:\n",
    "        for i in range(len(my_string)):\n",
    "            m = my_string[i]\n",
    "            \n",
    "            remaining_string = my_string[:i] + my_string[i+1:]\n",
    "            \n",
    "            for p in create_string_permutation(remaining_string):\n",
    "                store_permutation.append(m + p)\n",
    "        return store_permutation\n",
    "\n",
    "create_string_permutation('abcd')\n",
    "    "
   ]
  },
  {
   "cell_type": "code",
   "execution_count": 82,
   "metadata": {},
   "outputs": [
    {
     "data": {
      "text/plain": [
       "'b'"
      ]
     },
     "execution_count": 82,
     "metadata": {},
     "output_type": "execute_result"
    }
   ],
   "source": []
  },
  {
   "cell_type": "code",
   "execution_count": null,
   "metadata": {},
   "outputs": [],
   "source": []
  },
  {
   "cell_type": "code",
   "execution_count": null,
   "metadata": {
    "jupyter": {
     "source_hidden": true
    }
   },
   "outputs": [],
   "source": [
    "\n"
   ]
  },
  {
   "cell_type": "code",
   "execution_count": null,
   "metadata": {},
   "outputs": [],
   "source": []
  },
  {
   "cell_type": "code",
   "execution_count": null,
   "metadata": {},
   "outputs": [],
   "source": []
  },
  {
   "cell_type": "code",
   "execution_count": null,
   "metadata": {},
   "outputs": [],
   "source": []
  },
  {
   "cell_type": "code",
   "execution_count": null,
   "metadata": {},
   "outputs": [],
   "source": []
  },
  {
   "cell_type": "code",
   "execution_count": null,
   "metadata": {},
   "outputs": [],
   "source": []
  },
  {
   "cell_type": "code",
   "execution_count": null,
   "metadata": {},
   "outputs": [],
   "source": []
  },
  {
   "cell_type": "code",
   "execution_count": null,
   "metadata": {},
   "outputs": [],
   "source": []
  },
  {
   "cell_type": "code",
   "execution_count": null,
   "metadata": {},
   "outputs": [],
   "source": [
    "\n"
   ]
  },
  {
   "cell_type": "code",
   "execution_count": null,
   "metadata": {},
   "outputs": [],
   "source": []
  },
  {
   "cell_type": "code",
   "execution_count": null,
   "metadata": {},
   "outputs": [],
   "source": []
  },
  {
   "cell_type": "code",
   "execution_count": null,
   "metadata": {},
   "outputs": [],
   "source": []
  }
 ],
 "metadata": {
  "kernelspec": {
   "display_name": "Python 3",
   "language": "python",
   "name": "python3"
  },
  "language_info": {
   "codemirror_mode": {
    "name": "ipython",
    "version": 3
   },
   "file_extension": ".py",
   "mimetype": "text/x-python",
   "name": "python",
   "nbconvert_exporter": "python",
   "pygments_lexer": "ipython3",
   "version": "3.7.6"
  }
 },
 "nbformat": 4,
 "nbformat_minor": 4
}
