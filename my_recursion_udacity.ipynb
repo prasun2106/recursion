{
 "cells": [
  {
   "cell_type": "markdown",
   "metadata": {},
   "source": [
    "# Udacity Notebook 1 - Introduction"
   ]
  },
  {
   "cell_type": "code",
   "execution_count": 7,
   "metadata": {},
   "outputs": [
    {
     "data": {
      "text/plain": [
       "0.5"
      ]
     },
     "execution_count": 7,
     "metadata": {},
     "output_type": "execute_result"
    }
   ],
   "source": [
    "# my implementation accounts for both positive and negative exponents\n",
    "def power_function(n, e):\n",
    "    if n ==0 and e == 0:\n",
    "        raise ValueErrorueError(\"0 raised to 0 is not defined\")\n",
    "    if e == 0:\n",
    "        return(1)\n",
    "    if e > 0:\n",
    "        result = n * power_function(n, e-1)\n",
    "    if e<0:\n",
    "        result = n**-1 * power_function(n, e + 1)\n",
    "    return result\n",
    "\n",
    "power_function(2,-1)"
   ]
  },
  {
   "cell_type": "code",
   "execution_count": null,
   "metadata": {},
   "outputs": [],
   "source": []
  },
  {
   "cell_type": "code",
   "execution_count": 12,
   "metadata": {},
   "outputs": [
    {
     "data": {
      "text/plain": [
       "6"
      ]
     },
     "execution_count": 12,
     "metadata": {},
     "output_type": "execute_result"
    }
   ],
   "source": [
    "# my implementation - almost same as Udacity\n",
    "def sum_integers(n):\n",
    "    if n==0:\n",
    "        return (0)\n",
    "    else:\n",
    "        output = n + sum_integers(n-1)\n",
    "        return output\n",
    "        \n",
    "sum_integers(3)"
   ]
  },
  {
   "cell_type": "code",
   "execution_count": 16,
   "metadata": {},
   "outputs": [
    {
     "data": {
      "text/plain": [
       "15"
      ]
     },
     "execution_count": 16,
     "metadata": {},
     "output_type": "execute_result"
    }
   ],
   "source": [
    "# my implementation - almost same as Udacity\n",
    "def sum_array(arr):\n",
    "    if len(arr)==1:\n",
    "        return(arr[0])\n",
    "    else:\n",
    "        pop = arr.pop()\n",
    "        output = pop + sum_array(arr)\n",
    "        return output\n",
    "sum_array([1,2,3,4,5])"
   ]
  },
  {
   "cell_type": "markdown",
   "metadata": {},
   "source": [
    "# Udacity Notebook 2 - Factorial Using Recursion"
   ]
  },
  {
   "cell_type": "code",
   "execution_count": 21,
   "metadata": {},
   "outputs": [
    {
     "data": {
      "text/plain": [
       "120"
      ]
     },
     "execution_count": 21,
     "metadata": {},
     "output_type": "execute_result"
    }
   ],
   "source": [
    "# my implementation - almost same as Udacity\n",
    "def factorial(n):\n",
    "    if n<0:\n",
    "        raise ValueError('Factorial of Negative numbers are not defined')\n",
    "    if n==0:\n",
    "        return(1)\n",
    "    else:\n",
    "        output = n*factorial(n-1)\n",
    "        return output\n",
    "factorial(5)"
   ]
  },
  {
   "cell_type": "code",
   "execution_count": 19,
   "metadata": {
    "collapsed": true,
    "jupyter": {
     "outputs_hidden": true
    }
   },
   "outputs": [
    {
     "name": "stdout",
     "output_type": "stream",
     "text": [
      "Pass\n",
      "Pass\n",
      "Pass\n"
     ]
    }
   ],
   "source": [
    "# Test Cases\n",
    "\n",
    "print (\"Pass\" if (1 == factorial(0)) else \"Fail\")\n",
    "print (\"Pass\" if  (1 == factorial(1)) else \"Fail\")\n",
    "print (\"Pass\" if  (120 == factorial(5)) else \"Fail\")"
   ]
  },
  {
   "cell_type": "markdown",
   "metadata": {},
   "source": [
    "# Udacity Notebook 3 - Reversing a string"
   ]
  },
  {
   "cell_type": "code",
   "execution_count": 34,
   "metadata": {},
   "outputs": [
    {
     "data": {
      "text/plain": [
       "'nusarp'"
      ]
     },
     "execution_count": 34,
     "metadata": {},
     "output_type": "execute_result"
    }
   ],
   "source": [
    "# my implementation - almost same as Udacity\n",
    "def reverse_string(my_string):\n",
    "    if len(my_string) <=1:\n",
    "        return my_string\n",
    "    else:\n",
    "        output = my_string[-1] + reverse_string(my_string[:-1])\n",
    "        return output\n",
    "reverse_string('prasun')"
   ]
  },
  {
   "cell_type": "code",
   "execution_count": 35,
   "metadata": {},
   "outputs": [
    {
     "name": "stdout",
     "output_type": "stream",
     "text": [
      "Pass\n",
      "Pass\n"
     ]
    }
   ],
   "source": [
    "# Test Cases\n",
    "    \n",
    "print (\"Pass\" if  (\"\" == reverse_string(\"\")) else \"Fail\")\n",
    "print (\"Pass\" if  (\"cba\" == reverse_string(\"abc\")) else \"Fail\")"
   ]
  },
  {
   "cell_type": "markdown",
   "metadata": {},
   "source": [
    "# Udacity Notebook 4 - Checking Palindrome"
   ]
  },
  {
   "cell_type": "code",
   "execution_count": 57,
   "metadata": {},
   "outputs": [],
   "source": [
    "# my implementation - different than Udacity\n",
    "# my implementation doesn't use recursion, it just uses the function reverse_string\n",
    "def check_palindrome(my_string):\n",
    "    if reverse_string(my_string) == my_string:\n",
    "        return('Yes its a palindrome')\n",
    "    else:\n",
    "        return('no its not a palindrome')\n",
    "    return"
   ]
  },
  {
   "cell_type": "code",
   "execution_count": 58,
   "metadata": {},
   "outputs": [
    {
     "name": "stdout",
     "output_type": "stream",
     "text": [
      "Yes its a palindrome\n",
      "no its not a palindrome\n"
     ]
    }
   ],
   "source": [
    "print(check_palindrome('prasarp'))\n",
    "print(check_palindrome('prasarpwmdk'))"
   ]
  },
  {
   "cell_type": "code",
   "execution_count": null,
   "metadata": {},
   "outputs": [],
   "source": []
  }
 ],
 "metadata": {
  "kernelspec": {
   "display_name": "Python 3",
   "language": "python",
   "name": "python3"
  },
  "language_info": {
   "codemirror_mode": {
    "name": "ipython",
    "version": 3
   },
   "file_extension": ".py",
   "mimetype": "text/x-python",
   "name": "python",
   "nbconvert_exporter": "python",
   "pygments_lexer": "ipython3",
   "version": "3.7.6"
  }
 },
 "nbformat": 4,
 "nbformat_minor": 4
}
